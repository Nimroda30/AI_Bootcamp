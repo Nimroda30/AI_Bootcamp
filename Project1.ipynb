{
  "nbformat": 4,
  "nbformat_minor": 0,
  "metadata": {
    "colab": {
      "provenance": []
    },
    "kernelspec": {
      "name": "python3",
      "display_name": "Python 3"
    },
    "language_info": {
      "name": "python"
    }
  },
  "cells": [
    {
      "cell_type": "code",
      "execution_count": null,
      "metadata": {
        "id": "7sGxhO2Jlc9G",
        "colab": {
          "base_uri": "https://localhost:8080/"
        },
        "outputId": "d4540a8b-1dab-4509-af5b-db68e9905b14"
      },
      "outputs": [
        {
          "output_type": "stream",
          "name": "stdout",
          "text": [
            "Inside the loop. 5\n",
            "Inside the loop. 4\n",
            "Inside the loop. 3\n",
            "Inside the loop. 2\n",
            "Inside the loop. 1\n",
            "Outside the loop. 0\n"
          ]
        }
      ],
      "source": [
        "#While loop\n",
        "counter = 5\n",
        "while counter != 0:\n",
        "    print(\"Inside the loop.\", counter)\n",
        "    counter -= 1\n",
        "print(\"Outside the loop.\", counter)"
      ]
    },
    {
      "cell_type": "code",
      "source": [
        "counter = 5\n",
        "while counter:\n",
        "    print(\"Inside the loop.\", counter)\n",
        "    counter -= 1\n",
        "print(\"Outside the loop.\", counter)\n"
      ],
      "metadata": {
        "colab": {
          "base_uri": "https://localhost:8080/"
        },
        "id": "pjcXewO8BH1r",
        "outputId": "8e0126fd-ce0f-4793-f62d-9b6c1c784a6a"
      },
      "execution_count": null,
      "outputs": [
        {
          "output_type": "stream",
          "name": "stdout",
          "text": [
            "Inside the loop. 5\n",
            "Inside the loop. 4\n",
            "Inside the loop. 3\n",
            "Inside the loop. 2\n",
            "Inside the loop. 1\n",
            "Outside the loop. 0\n"
          ]
        }
      ]
    },
    {
      "cell_type": "code",
      "source": [
        "#Lists\n",
        "numbers = [111, 7, 2, 1]\n",
        "print(len(numbers))\n",
        "print(numbers)\n",
        "\n",
        "###\n",
        "\n",
        "numbers.append(4)\n",
        "\n",
        "print(len(numbers))\n",
        "print(numbers)\n",
        "\n",
        "###\n",
        "\n",
        "numbers.insert(0, 222)\n",
        "print(len(numbers))\n",
        "print(numbers)\n",
        "\n",
        "#\n",
        "numbers.insert(1, 333)\n",
        "print(numbers)\n"
      ],
      "metadata": {
        "colab": {
          "base_uri": "https://localhost:8080/"
        },
        "id": "QWJI_6wDdaUm",
        "outputId": "bbed146c-b906-43b9-a64f-038e673737a9"
      },
      "execution_count": null,
      "outputs": [
        {
          "output_type": "stream",
          "name": "stdout",
          "text": [
            "4\n",
            "[111, 7, 2, 1]\n",
            "5\n",
            "[111, 7, 2, 1, 4]\n",
            "6\n",
            "[222, 111, 7, 2, 1, 4]\n",
            "[222, 333, 111, 7, 2, 1, 4]\n"
          ]
        }
      ]
    },
    {
      "cell_type": "code",
      "source": [
        "my_list = []  # Creating an empty list.\n",
        "\n",
        "for i in range(5):\n",
        "    my_list.append(i + 1)\n",
        "\n",
        "print(my_list)"
      ],
      "metadata": {
        "colab": {
          "base_uri": "https://localhost:8080/"
        },
        "id": "NnGpYgoEeCCz",
        "outputId": "0a846251-9e90-49df-9d4e-a875f91e518d"
      },
      "execution_count": null,
      "outputs": [
        {
          "output_type": "stream",
          "name": "stdout",
          "text": [
            "[1, 2, 3, 4, 5]\n"
          ]
        }
      ]
    },
    {
      "cell_type": "code",
      "source": [
        "my_list = [10, 1, 8, 3, 5]\n",
        "total = 0\n",
        "\n",
        "for i in range(len(my_list)):\n",
        "    total += my_list[i]\n",
        "\n",
        "print(total)"
      ],
      "metadata": {
        "colab": {
          "base_uri": "https://localhost:8080/"
        },
        "id": "AwK4ts_Wevtz",
        "outputId": "6c3de2d1-6b9a-4388-f62d-5c6448059f85"
      },
      "execution_count": null,
      "outputs": [
        {
          "output_type": "stream",
          "name": "stdout",
          "text": [
            "27\n"
          ]
        }
      ]
    },
    {
      "cell_type": "code",
      "source": [
        "beatles = []\n",
        "# step 1\n",
        "print(\"Step 1:\", beatles)\n",
        "\n",
        "# step 2\n",
        "print(\"Step 2:\", beatles)\n",
        "\n",
        "# step 3\n",
        "print(\"Step 3:\", beatles)\n",
        "\n",
        "# step 4\n",
        "print(\"Step 4:\", beatles)\n",
        "\n",
        "# step 5\n",
        "print(\"Step 5:\", beatles)\n",
        "\n",
        "\n",
        "# testing list legth\n",
        "print(\"The Fab\", len(beatles))"
      ],
      "metadata": {
        "colab": {
          "base_uri": "https://localhost:8080/"
        },
        "id": "c4hCSGlxfnuh",
        "outputId": "cda3f9ea-ebe5-4038-beab-eb8f0700b75f"
      },
      "execution_count": null,
      "outputs": [
        {
          "output_type": "stream",
          "name": "stdout",
          "text": [
            "Step 1: [0]\n",
            "Step 2: [0]\n",
            "Step 3: [0]\n",
            "Step 4: [0]\n",
            "Step 5: [0]\n",
            "The Fab 1\n"
          ]
        }
      ]
    },
    {
      "cell_type": "code",
      "source": [
        "#Collection of different data types\n",
        "my_list = [1, None, True, 'I am a string', 256, 0]\n",
        "print(my_list[3])  # outputs: I am a string\n",
        "print(my_list[-1])  # outputs: 0\n",
        "\n",
        "my_list[1] = '?'\n",
        "print(my_list)  # outputs: [1, '?', True, 'I am a string', 256, 0]\n",
        "\n",
        "my_list.insert(0, \"first\")\n",
        "my_list.append(\"last\")\n",
        "print(my_list)  # outputs: ['first', 1, '?', True, 'I am a string', 256, 0, 'last']"
      ],
      "metadata": {
        "colab": {
          "base_uri": "https://localhost:8080/"
        },
        "id": "bpz6PVcXt3MT",
        "outputId": "5261e540-83f0-4fc0-d9bd-bbaa84a8ca41"
      },
      "execution_count": null,
      "outputs": [
        {
          "output_type": "stream",
          "name": "stdout",
          "text": [
            "I am a string\n",
            "0\n",
            "[1, '?', True, 'I am a string', 256, 0]\n",
            "['first', 1, '?', True, 'I am a string', 256, 0, 'last']\n"
          ]
        }
      ]
    },
    {
      "cell_type": "code",
      "source": [
        "#Nested list\n",
        "my_list = [1, 'a', [\"list\", 64, [0, 1], False]]\n",
        "print(my_list[2])"
      ],
      "metadata": {
        "colab": {
          "base_uri": "https://localhost:8080/"
        },
        "id": "qMU1QrfYuYjy",
        "outputId": "bb376d4d-b0bb-44c5-c923-a5308d75b943"
      },
      "execution_count": null,
      "outputs": [
        {
          "output_type": "stream",
          "name": "stdout",
          "text": [
            "['list', 64, [0, 1], False]\n"
          ]
        }
      ]
    },
    {
      "cell_type": "code",
      "source": [
        "#deleting items from the list\n",
        "my_list = [1, 2, 3, 4, 5]\n",
        "del my_list[2]\n",
        "print(my_list)\n",
        "\n",
        "del my_list"
      ],
      "metadata": {
        "colab": {
          "base_uri": "https://localhost:8080/"
        },
        "id": "fa2CxR3WvFga",
        "outputId": "7f924797-ec6c-4f97-831f-7180713eaa82"
      },
      "execution_count": null,
      "outputs": [
        {
          "output_type": "stream",
          "name": "stdout",
          "text": [
            "[1, 2, 4, 5]\n"
          ]
        }
      ]
    },
    {
      "cell_type": "code",
      "source": [
        "#iterated\n",
        "my_list = [\"white\", \"purple\", \"blue\", \"yellow\", \"green\"]\n",
        "\n",
        "for color in my_list:\n",
        "    print(color)"
      ],
      "metadata": {
        "id": "RVNjCucivtRv"
      },
      "execution_count": null,
      "outputs": []
    },
    {
      "cell_type": "code",
      "source": [
        "#Length of the list\n",
        "\n",
        "my_list = [\"white\", \"purple\", \"blue\", \"yellow\", \"green\"]\n",
        "print(len(my_list))  # outputs 5\n",
        "\n",
        "del my_list[2]\n",
        "print(len(my_list))  # outputs 4"
      ],
      "metadata": {
        "id": "eyS_5cAYv2i4"
      },
      "execution_count": null,
      "outputs": []
    },
    {
      "cell_type": "code",
      "source": [
        "#insert and append method\n",
        "lst = [1, 2, 3, 4, 5]\n",
        "lst.insert(1, 6)\n",
        "print(lst)\n",
        "del lst[0]\n",
        "print(lst)\n",
        "lst.append(1)\n",
        "\n",
        "print(lst)"
      ],
      "metadata": {
        "colab": {
          "base_uri": "https://localhost:8080/"
        },
        "id": "ASJ0f5z5wPSf",
        "outputId": "8b735b96-ae95-40df-c3d7-45070226c4ee"
      },
      "execution_count": null,
      "outputs": [
        {
          "output_type": "stream",
          "name": "stdout",
          "text": [
            "[1, 6, 2, 3, 4, 5]\n",
            "[6, 2, 3, 4, 5]\n",
            "[6, 2, 3, 4, 5, 1]\n"
          ]
        }
      ]
    },
    {
      "cell_type": "code",
      "source": [
        "lst = [1, 2, 3, 4, 5]\n",
        "lst_2 = []\n",
        "add = 0\n",
        "\n",
        "for number in lst:\n",
        "    add += number\n",
        "    lst_2.append(add)\n",
        "\n",
        "print(lst_2)"
      ],
      "metadata": {
        "colab": {
          "base_uri": "https://localhost:8080/"
        },
        "id": "3RHWMXeJxROw",
        "outputId": "ab30e647-4299-42cc-9a2a-7f5d690d6499"
      },
      "execution_count": null,
      "outputs": [
        {
          "output_type": "stream",
          "name": "stdout",
          "text": [
            "[1, 3, 6, 10, 15]\n"
          ]
        }
      ]
    },
    {
      "cell_type": "code",
      "source": [
        "#Bubble sort\n",
        "my_list = [8, 10, 6, 2, 4]  # list to sort\n",
        "\n",
        "for i in range(len(my_list) - 1):  # we need (5 - 1) comparisons\n",
        "    if my_list[i] > my_list[i + 1]:  # compare adjacent elements\n",
        "        my_list[i], my_list[i + 1] = my_list[i + 1], my_list[i]  # If we end up here, we have to swap the elements.\n",
        "print(my_list)"
      ],
      "metadata": {
        "colab": {
          "base_uri": "https://localhost:8080/"
        },
        "id": "VpxXkuLTkBsK",
        "outputId": "aeda9b9f-bafd-418b-8769-c3fd0f85ddc2"
      },
      "execution_count": 7,
      "outputs": [
        {
          "output_type": "stream",
          "name": "stdout",
          "text": [
            "[8, 6, 2, 4, 10]\n"
          ]
        }
      ]
    },
    {
      "cell_type": "code",
      "source": [
        "my_list = [8, 10, 6, 2, 4]  # list to sort\n",
        "swapped = True  # It's a little fake, we need it to enter the while loop.\n",
        "\n",
        "while swapped:\n",
        "    swapped = False  # no swaps so far\n",
        "    for i in range(len(my_list) - 1):\n",
        "        if my_list[i] > my_list[i + 1]:\n",
        "            swapped = True  # a swap occurred!\n",
        "            my_list[i], my_list[i + 1] = my_list[i + 1], my_list[i]\n",
        "\n",
        "print(my_list)"
      ],
      "metadata": {
        "colab": {
          "base_uri": "https://localhost:8080/"
        },
        "id": "O4KNesFtmUpB",
        "outputId": "16e77a15-3403-4264-cefa-67901c685026"
      },
      "execution_count": 10,
      "outputs": [
        {
          "output_type": "stream",
          "name": "stdout",
          "text": [
            "[2, 4, 6, 8, 10]\n"
          ]
        }
      ]
    },
    {
      "cell_type": "code",
      "source": [
        "my_list = []\n",
        "swapped =True\n",
        "num = int(input(\"How many elements do you want to sort: \"))\n",
        "\n",
        "for i in range(num):\n",
        "  val = float(input(\"Enter a list element: \"))\n",
        "  my_list.append(val)\n",
        "\n",
        "  while swapped:\n",
        "    swapped = False\n",
        "    for i in range(len(my_list) - 1):\n",
        "        if my_list[1] > my_list[i + 1]:\n",
        "          swapped = True\n",
        "          my_list[i], my_list[i + 1] = my_list[i + 1], my_list[i]\n",
        "          print(\"swapped list: \", my_list)\n",
        "\n",
        "print(my_list)"
      ],
      "metadata": {
        "id": "uz83dcXAmu6f"
      },
      "execution_count": null,
      "outputs": []
    },
    {
      "cell_type": "code",
      "source": [
        "my_list = [8, 10, 6, 2, 4]\n",
        "my_list.sort()\n",
        "print(my_list)"
      ],
      "metadata": {
        "colab": {
          "base_uri": "https://localhost:8080/"
        },
        "id": "whdmfOxxrLu7",
        "outputId": "2155a15f-4652-4f4c-ccb1-88704f3e10bb"
      },
      "execution_count": 17,
      "outputs": [
        {
          "output_type": "stream",
          "name": "stdout",
          "text": [
            "[2, 4, 6, 8, 10]\n"
          ]
        }
      ]
    },
    {
      "cell_type": "code",
      "source": [
        "#Ascending and Descending orders\n",
        "my_list = [8, 10, 6, 2, 4]\n",
        "my_list.sort()  #the sort method automatically sorts number in ascending order\n",
        "\n",
        "print(\"List sorted in ascending order: \", my_list)\n",
        "my_list.sort(reverse = True) #sorting numbers in descending order\n",
        "\n",
        "print(\"List sorted in descending order: \", my_list)"
      ],
      "metadata": {
        "colab": {
          "base_uri": "https://localhost:8080/"
        },
        "id": "Sf53pnerrQQK",
        "outputId": "9b83cd4b-945b-471f-c664-331b87bfc95c"
      },
      "execution_count": 20,
      "outputs": [
        {
          "output_type": "stream",
          "name": "stdout",
          "text": [
            "List sorted in ascending order:  [2, 4, 6, 8, 10]\n",
            "List sorted in descending order:  [10, 8, 6, 4, 2]\n"
          ]
        }
      ]
    },
    {
      "cell_type": "code",
      "source": [
        "#Arranging list in reverse order\n",
        "\n",
        "lst = [5, 3, 1, 2, 4]\n",
        "print(lst)\n",
        "\n",
        "lst.reverse() #arranging list numbers in reverse order\n",
        "print(lst)  # outputs: [4, 2, 1, 3, 5]"
      ],
      "metadata": {
        "id": "Cwc4loLXtFoR"
      },
      "execution_count": null,
      "outputs": []
    },
    {
      "cell_type": "code",
      "source": [
        "#Sorting string values\n",
        "lst = [\"D\", \"F\", \"A\", \"Z\"]\n",
        "lst.sort()\n",
        "\n",
        "print(lst)"
      ],
      "metadata": {
        "id": "_P6m8GzD0e6I"
      },
      "execution_count": null,
      "outputs": []
    },
    {
      "cell_type": "code",
      "source": [
        "a = 3\n",
        "b = 1\n",
        "c = 2\n",
        "\n",
        "lst = [a, c, b]\n",
        "lst.sort()\n",
        "\n",
        "print(lst)"
      ],
      "metadata": {
        "id": "YenUy7Uj00aR"
      },
      "execution_count": null,
      "outputs": []
    },
    {
      "cell_type": "code",
      "source": [
        "a = \"A\"\n",
        "b = \"B\"\n",
        "c = \"C\"\n",
        "d = \" \"\n",
        "\n",
        "lst = [a, b, c, d]\n",
        "lst.reverse()\n",
        "\n",
        "print(lst)"
      ],
      "metadata": {
        "colab": {
          "base_uri": "https://localhost:8080/"
        },
        "id": "d2hQtAoJ08JA",
        "outputId": "de4dd574-a5e7-4358-b6ce-35caeee3e2e0"
      },
      "execution_count": 23,
      "outputs": [
        {
          "output_type": "stream",
          "name": "stdout",
          "text": [
            "[' ', 'C', 'B', 'A']\n"
          ]
        }
      ]
    }
  ]
}