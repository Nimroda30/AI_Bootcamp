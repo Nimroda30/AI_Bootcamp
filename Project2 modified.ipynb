{
  "nbformat": 4,
  "nbformat_minor": 0,
  "metadata": {
    "colab": {
      "provenance": []
    },
    "kernelspec": {
      "name": "python3",
      "display_name": "Python 3"
    },
    "language_info": {
      "name": "python"
    }
  },
  "cells": [
    {
      "cell_type": "code",
      "execution_count": 11,
      "metadata": {
        "id": "nH0Dh06E6XvL",
        "colab": {
          "base_uri": "https://localhost:8080/"
        },
        "outputId": "1dcb489a-4577-4602-9db4-56894c62f9fe"
      },
      "outputs": [
        {
          "output_type": "stream",
          "name": "stdout",
          "text": [
            "hello world\n"
          ]
        }
      ],
      "source": [
        "#print a statement\n",
        "print(\"hello world\")\n"
      ]
    },
    {
      "cell_type": "code",
      "source": [
        "print(\"indentation is important\");\n",
        "print(\"indentation is important\")"
      ],
      "metadata": {
        "id": "NBWqUQlC63P9",
        "colab": {
          "base_uri": "https://localhost:8080/"
        },
        "outputId": "ea77a038-8cdc-4373-d514-b52b44f51157"
      },
      "execution_count": 10,
      "outputs": [
        {
          "output_type": "stream",
          "name": "stdout",
          "text": [
            "indentation is important\n",
            "indentation is important\n"
          ]
        }
      ]
    },
    {
      "cell_type": "code",
      "source": [
        "name = \"Nimroda\"\n",
        "print(\"My name is \" + name)"
      ],
      "metadata": {
        "id": "eYuWUGMUZkHA",
        "colab": {
          "base_uri": "https://localhost:8080/"
        },
        "outputId": "0a063406-6da3-4539-f691-a9d57f47189d"
      },
      "execution_count": 9,
      "outputs": [
        {
          "output_type": "stream",
          "name": "stdout",
          "text": [
            "My name is Nimroda\n"
          ]
        }
      ]
    },
    {
      "cell_type": "code",
      "source": [
        "name = \"James\"\n",
        "age = 22\n",
        "height = 2.1\n",
        "is_student = True\n",
        "print(\"My brother's name is \" +name )\n",
        "#print(\"and he is \" + age + \" years old\")\n",
        "#print(\"His height \" + height)\n",
        "#print(\" is he a student? \"+ is_student)"
      ],
      "metadata": {
        "colab": {
          "base_uri": "https://localhost:8080/"
        },
        "id": "9hpd28w1aQQd",
        "outputId": "b310906b-50e4-4ab1-f0a7-8bc61f1673ad"
      },
      "execution_count": 8,
      "outputs": [
        {
          "output_type": "stream",
          "name": "stdout",
          "text": [
            "My brother's name is James\n"
          ]
        }
      ]
    },
    {
      "cell_type": "code",
      "source": [
        "#list\n",
        "person = {\"name\": \"John\", \"age\": 25, \"is_student\": True}\n",
        "print(\"This is the variable for name: \" + person['name'])\n",
        "print(\"This is the variable for age: \" + str(person[\"age\"]))\n",
        "\n",
        "#print(person['name'])"
      ],
      "metadata": {
        "id": "wX-1OZE5fcsU",
        "colab": {
          "base_uri": "https://localhost:8080/"
        },
        "outputId": "e56170d6-b04c-4eb4-ca3b-3aced82ec1ed"
      },
      "execution_count": 7,
      "outputs": [
        {
          "output_type": "stream",
          "name": "stdout",
          "text": [
            "This is the variable for name: John\n",
            "This is the variable for age: 25\n"
          ]
        }
      ]
    },
    {
      "cell_type": "code",
      "source": [
        "print(\"The last name typed is \"+name)"
      ],
      "metadata": {
        "id": "PQK-9p0ZnXiK"
      },
      "execution_count": null,
      "outputs": []
    },
    {
      "cell_type": "code",
      "source": [
        "#if statement\n",
        "age = 19\n",
        "if age <= 17:\n",
        "  print(\"You can drive\")\n",
        "else:\n",
        "  print(\"Wait until you reach \" + str(age) + \" to be able to drive\")"
      ],
      "metadata": {
        "id": "bJK8wTmdafcG",
        "colab": {
          "base_uri": "https://localhost:8080/"
        },
        "outputId": "854d7616-d52b-4ff6-d8c9-1a13ba66d31d"
      },
      "execution_count": 6,
      "outputs": [
        {
          "output_type": "stream",
          "name": "stdout",
          "text": [
            "Wait until you reach 19 to be able to drive\n"
          ]
        }
      ]
    },
    {
      "cell_type": "code",
      "source": [
        "#For loops\n",
        "fruits = (\"apple\", \"banana\", \"orange\")\n",
        "print(\"The fruits that are available in the busket are:\")\n",
        "for i in fruits:\n",
        "  print(i)\n",
        "  #print(\"My brother loves \" + fruits[0] + \" more than \" + fruits[1])\n",
        "\n"
      ],
      "metadata": {
        "id": "6GplHzKcrsAB",
        "colab": {
          "base_uri": "https://localhost:8080/"
        },
        "outputId": "8de07153-74f2-45e6-cba1-011e938da898"
      },
      "execution_count": 5,
      "outputs": [
        {
          "output_type": "stream",
          "name": "stdout",
          "text": [
            "The fruits that are available in the busket are:\n",
            "apple\n",
            "banana\n",
            "orange\n"
          ]
        }
      ]
    },
    {
      "cell_type": "code",
      "source": [
        "#Nested for loop\n",
        "fruits = [\"apple\", \"banana\"]\n",
        "colors = [\"red\",\"yellow\"]\n",
        "\n",
        "for fruit in fruits:\n",
        "  for color in colors:\n",
        "    #print(\" \");\n",
        "    print(\"The color of \" +fruits[0] + \" is \" + colors[0])\n",
        "    print(\"The color of \" +fruits[1] + \" is \" + colors[1])\n",
        "\n",
        "    #print(fruit + \" : \"+ color)\n"
      ],
      "metadata": {
        "colab": {
          "base_uri": "https://localhost:8080/"
        },
        "id": "C9K_jnigb5qO",
        "outputId": "0c36fe59-25d6-46f0-95b3-28e3475b20a6"
      },
      "execution_count": 4,
      "outputs": [
        {
          "output_type": "stream",
          "name": "stdout",
          "text": [
            "The color of apple is red\n",
            "The color of banana is yellow\n",
            "The color of apple is red\n",
            "The color of banana is yellow\n",
            "The color of apple is red\n",
            "The color of banana is yellow\n",
            "The color of apple is red\n",
            "The color of banana is yellow\n"
          ]
        }
      ]
    },
    {
      "cell_type": "code",
      "source": [
        "#while loop\n",
        "cookies = 10\n",
        "#print(\"Enter number: \" input())\n",
        "while cookies > 11:\n",
        "  print(\"Please try again\")\n",
        "  #print(\"Enter another number: \"+input())\n",
        "  break\n",
        "else:\n",
        "  print(\"Thats great!\")"
      ],
      "metadata": {
        "colab": {
          "base_uri": "https://localhost:8080/"
        },
        "id": "d2SDcqmgl7EZ",
        "outputId": "92170ec1-c92d-4edb-d2d8-3962f5aeb8de"
      },
      "execution_count": 3,
      "outputs": [
        {
          "output_type": "stream",
          "name": "stdout",
          "text": [
            "Thats great!\n"
          ]
        }
      ]
    },
    {
      "cell_type": "code",
      "source": [
        "def add_numbers(a, b):\n",
        "  results = a + b\n",
        "  return results\n",
        "\n",
        "results = add_numbers(5, 3)\n",
        "print(\"The sum of 5 and 3 is \"+str(results))\n",
        "\n",
        "results = add_numbers(4, 3)\n",
        "print(\"The sum of 4 and 3 is \"+str(results))\n",
        "\n",
        "\n"
      ],
      "metadata": {
        "id": "cNTSX2RLp4rt",
        "colab": {
          "base_uri": "https://localhost:8080/"
        },
        "outputId": "a932653c-5f5c-465f-8ebe-144ac2c332e4"
      },
      "execution_count": 2,
      "outputs": [
        {
          "output_type": "stream",
          "name": "stdout",
          "text": [
            "The sum of 5 and 3 is 8\n",
            "The sum of 4 and 3 is 7\n"
          ]
        }
      ]
    },
    {
      "cell_type": "code",
      "source": [
        "import math\n",
        "\n",
        "result = int(math.sqrt(25))\n",
        "print(result)"
      ],
      "metadata": {
        "colab": {
          "base_uri": "https://localhost:8080/"
        },
        "id": "Lv6NvJizzQCI",
        "outputId": "7626877d-0c6e-4d65-a2f4-024dd4df1802"
      },
      "execution_count": 1,
      "outputs": [
        {
          "output_type": "stream",
          "name": "stdout",
          "text": [
            "5\n"
          ]
        }
      ]
    }
  ]
}