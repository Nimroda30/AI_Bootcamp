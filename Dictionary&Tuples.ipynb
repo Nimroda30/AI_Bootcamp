{
  "nbformat": 4,
  "nbformat_minor": 0,
  "metadata": {
    "colab": {
      "provenance": [],
      "authorship_tag": "ABX9TyPcspngpOm5m4ckLqasp4mS",
      "include_colab_link": true
    },
    "kernelspec": {
      "name": "python3",
      "display_name": "Python 3"
    },
    "language_info": {
      "name": "python"
    }
  },
  "cells": [
    {
      "cell_type": "markdown",
      "metadata": {
        "id": "view-in-github",
        "colab_type": "text"
      },
      "source": [
        "<a href=\"https://colab.research.google.com/github/Nimroda30/AI_Bootcamp/blob/main/Dictionary%26Tuples.ipynb\" target=\"_parent\"><img src=\"https://colab.research.google.com/assets/colab-badge.svg\" alt=\"Open In Colab\"/></a>"
      ]
    },
    {
      "cell_type": "code",
      "execution_count": 1,
      "metadata": {
        "colab": {
          "base_uri": "https://localhost:8080/"
        },
        "id": "jx0MdSKjNd2R",
        "outputId": "a05032e5-6771-4fe7-c477-b5f010a98b91"
      },
      "outputs": [
        {
          "output_type": "stream",
          "name": "stdout",
          "text": [
            "{'cat': 'chat', 'dog': 'chien', 'horse': 'cheval'}\n"
          ]
        }
      ],
      "source": [
        "#Dictionary: Dictionaries are unordered*, changeable (mutable), and indexed collections of data.\n",
        "#Each dictionary is a set of key: value pairs.\n",
        "\n",
        "#my_dictionary = {\n",
        " #   key1: value1,\n",
        "  #  key2: value2,\n",
        "   # key3: value3,\n",
        "#}\n",
        "\n",
        "\n",
        "dictionary = {\"cat\": \"chat\", \"dog\": \"chien\", \"horse\": \"cheval\"}\n",
        "\n",
        "\n",
        "print(dictionary)"
      ]
    },
    {
      "cell_type": "code",
      "source": [
        "# You can use the for loop to loop through a dictionary, e.g.:\n",
        "pol_eng_dictionary = {\n",
        "    \"zamek\": \"castle\",\n",
        "    \"woda\": \"water\",\n",
        "    \"gleba\": \"soil\"\n",
        "    }\n",
        "\n",
        "for item in pol_eng_dictionary:\n",
        "    print(item)\n",
        "\n",
        "#          woda\n",
        "#          gleba"
      ],
      "metadata": {
        "colab": {
          "base_uri": "https://localhost:8080/"
        },
        "id": "ug9drGhcYGIN",
        "outputId": "4095d896-26ed-40f7-83e4-8f6a6c926046"
      },
      "execution_count": 14,
      "outputs": [
        {
          "output_type": "stream",
          "name": "stdout",
          "text": [
            "zamek\n",
            "woda\n",
            "gleba\n"
          ]
        }
      ]
    },
    {
      "cell_type": "code",
      "source": [
        "# If you want to loop through a dictionary's keys and values, you can use the items() method, e.g.:\n",
        "pol_eng_dictionary = {\n",
        "    \"zamek\": \"castle\",\n",
        "    \"woda\": \"water\",\n",
        "    \"gleba\": \"soil\"\n",
        "    }\n",
        "\n",
        "for key, value in pol_eng_dictionary.items():\n",
        "    print(\"Pol/Eng ->\", key, \":\", value)\n",
        ""
      ],
      "metadata": {
        "colab": {
          "base_uri": "https://localhost:8080/"
        },
        "id": "Ngnp9KkwYeWc",
        "outputId": "4adab52f-ea50-4351-cd9a-366c3e67d0e2"
      },
      "execution_count": 15,
      "outputs": [
        {
          "output_type": "stream",
          "name": "stdout",
          "text": [
            "Pol/Eng -> zamek : castle\n",
            "Pol/Eng -> woda : water\n",
            "Pol/Eng -> gleba : soil\n"
          ]
        }
      ]
    },
    {
      "cell_type": "code",
      "source": [
        "# To check if a given key exists in a dictionary, you can use the in keyword:\n",
        "\n",
        "pol_eng_dictionary = {\n",
        "    \"zamek\": \"castle\",\n",
        "    \"woda\": \"water\",\n",
        "    \"gleba\": \"soil\"\n",
        "    }\n",
        "\n",
        "if \"zamek\" in pol_eng_dictionary:\n",
        "   print(\"Yes\")\n",
        "else:\n",
        "   print(\"No\")"
      ],
      "metadata": {
        "colab": {
          "base_uri": "https://localhost:8080/"
        },
        "id": "5NnKdvm5YsjE",
        "outputId": "6e078202-e361-4163-819f-cb7359601f77"
      },
      "execution_count": 16,
      "outputs": [
        {
          "output_type": "stream",
          "name": "stdout",
          "text": [
            "Yes\n"
          ]
        }
      ]
    },
    {
      "cell_type": "code",
      "source": [
        "# use the del keyword to remove a specific item, or delete a dictionary. To remove all the dictionary's items, you need to use the clear() method:\n",
        "pol_eng_dictionary = {\n",
        "    \"zamek\": \"castle\",\n",
        "    \"woda\": \"water\",\n",
        "    \"gleba\": \"soil\"\n",
        "    }\n",
        "\n",
        "print(len(pol_eng_dictionary)) # outputs: 3\n",
        "del pol_eng_dictionary[\"zamek\"] # remove an item\n",
        "print(len(pol_eng_dictionary)) # outputs: 2\n",
        "\n",
        "pol_eng_dictionary.clear() # removes all the items\n",
        "print(len(pol_eng_dictionary)) # outputs: 0\n",
        "\n",
        "del pol_eng_dictionary # removes the dictionary\n",
        ""
      ],
      "metadata": {
        "colab": {
          "base_uri": "https://localhost:8080/"
        },
        "id": "A22xXGOAZMwq",
        "outputId": "c8ffa618-4d99-4447-f04a-0845c9ceb232"
      },
      "execution_count": 17,
      "outputs": [
        {
          "output_type": "stream",
          "name": "stdout",
          "text": [
            "3\n",
            "2\n",
            "0\n"
          ]
        }
      ]
    },
    {
      "cell_type": "code",
      "source": [
        "# To copy a dictionary, use the copy() method:\n",
        "pol_eng_dictionary = {\n",
        "    \"zamek\": \"castle\",\n",
        "    \"woda\": \"water\",\n",
        "    \"gleba\": \"soil\"\n",
        "    }\n",
        "\n",
        "copy_dictionary = pol_eng_dictionary.copy()\n",
        "print(copy_dictionary)\n",
        "print(pol_eng_dictionary)"
      ],
      "metadata": {
        "colab": {
          "base_uri": "https://localhost:8080/"
        },
        "id": "4cffyhuvdu7i",
        "outputId": "cb65f7dc-e208-4969-8102-56553c196474"
      },
      "execution_count": 20,
      "outputs": [
        {
          "output_type": "stream",
          "name": "stdout",
          "text": [
            "{'zamek': 'castle', 'woda': 'water', 'gleba': 'soil'}\n",
            "{'zamek': 'castle', 'woda': 'water', 'gleba': 'soil'}\n"
          ]
        }
      ]
    },
    {
      "cell_type": "code",
      "source": [
        "#Write a program that will \"glue\" the two dictionaries (d1 and d2) together and create a new one (d3).\n",
        "d1 = {'Adam Smith': 'A', 'Judy Paxton': 'B+'}\n",
        "d2 = {'Mary Louis': 'A', 'Patrick White': 'C'}\n",
        "d3 = {}\n",
        "\n",
        "for item in (d1, d2):\n",
        "    d3.update(item)\n",
        "\n",
        "print(d3)"
      ],
      "metadata": {
        "id": "_fI2-CgPey2u"
      },
      "execution_count": null,
      "outputs": []
    },
    {
      "cell_type": "code",
      "source": [
        "#If you want to access a dictionary item, you can do so by making a reference to its key inside a pair of square brackets (ex. 1) or by using the get() method\n",
        "\n",
        "pol_eng_dictionary = {\n",
        "    \"kwiat\": \"flower\",\n",
        "    \"woda\": \"water\",\n",
        "    \"gleba\": \"soil\"\n",
        "    }\n",
        "\n",
        "item_1 = pol_eng_dictionary[\"gleba\"] # ex. 1\n",
        "item_ = pol_eng_dictionary[\"kwiat\"]\n",
        "print(item_1) # outputs: soil\n",
        "print(item_)\n",
        "\n",
        "item_2 = pol_eng_dictionary.get(\"woda\") # ex. 2\n",
        "print(item_2) # outputs: water"
      ],
      "metadata": {
        "colab": {
          "base_uri": "https://localhost:8080/"
        },
        "id": "tLreplDwVqD3",
        "outputId": "0bff834d-c2be-4161-874b-660489dae488"
      },
      "execution_count": 13,
      "outputs": [
        {
          "output_type": "stream",
          "name": "stdout",
          "text": [
            "soil\n",
            "flower\n",
            "water\n"
          ]
        }
      ]
    },
    {
      "cell_type": "code",
      "source": [
        "##Adding a new key to Dictionary\n",
        "dictionary = {\"cat\": \"chat\", \"dog\": \"chien\", \"horse\": \"cheval\"}\n",
        "\n",
        "dictionary['swan'] = 'cygne'\n",
        "print(dictionary)\n",
        "\n",
        "#Another way\n",
        "dictionary = {\"cat\": \"chat\", \"dog\": \"chien\", \"horse\": \"cheval\"}\n",
        "\n",
        "dictionary.update({\"duck\": \"canard\"})\n",
        "print(dictionary)"
      ],
      "metadata": {
        "colab": {
          "base_uri": "https://localhost:8080/"
        },
        "id": "WJS7K4WTNjyp",
        "outputId": "8555887b-adc3-499d-ff57-dae3af5a67f8"
      },
      "execution_count": 3,
      "outputs": [
        {
          "output_type": "stream",
          "name": "stdout",
          "text": [
            "{'cat': 'chat', 'dog': 'chien', 'horse': 'cheval', 'swan': 'cygne'}\n",
            "{'cat': 'chat', 'dog': 'chien', 'horse': 'cheval', 'duck': 'canard'}\n"
          ]
        }
      ]
    },
    {
      "cell_type": "code",
      "source": [
        "#Removing a key\n",
        "dictionary = {\"cat\": \"chat\", \"dog\": \"chien\", \"horse\": \"cheval\"}\n",
        "\n",
        "del dictionary['dog']\n",
        "print(dictionary)"
      ],
      "metadata": {
        "colab": {
          "base_uri": "https://localhost:8080/"
        },
        "id": "BtNK5rzMN_1f",
        "outputId": "17cec6d7-aeb5-4f83-c63d-43c0682ae66e"
      },
      "execution_count": 7,
      "outputs": [
        {
          "output_type": "stream",
          "name": "stdout",
          "text": [
            "{'cat': 'chat', 'horse': 'cheval'}\n"
          ]
        }
      ]
    },
    {
      "cell_type": "code",
      "source": [
        "#To remove the last item in a dictionary\n",
        "dictionary = {\"cat\": \"chat\", \"dog\": \"chien\", \"horse\": \"cheval\"}\n",
        "\n",
        "dictionary.popitem()\n",
        "print(dictionary) # outputs: {'cat': 'chat', 'dog': 'chien'}"
      ],
      "metadata": {
        "colab": {
          "base_uri": "https://localhost:8080/"
        },
        "id": "pjoTNZenPEfV",
        "outputId": "4bfc37a8-8be1-42d3-f8b8-825002d2aa6d"
      },
      "execution_count": 8,
      "outputs": [
        {
          "output_type": "stream",
          "name": "stdout",
          "text": [
            "{'cat': 'chat', 'dog': 'chien'}\n"
          ]
        }
      ]
    },
    {
      "cell_type": "code",
      "source": [
        "#Tuples\n",
        "#Tuples are ordered and unchangeable (immutable) collections of data. They can be thought of as immutable lists. They are written in round brackets:\n",
        "my_tuple = (1, 2, True, \"a string\", (3, 4), [5, 6], None)\n",
        "print(my_tuple)\n",
        "\n",
        "my_list = [1, 2, True, \"a string\", (3, 4), [5, 6], None]\n",
        "print(my_list)\n",
        "\n",
        "#Each tuple element may be of a different type (i.e., integers, strings, booleans, etc.). What is more, tuples can contain other tuples or lists (and the other way round).\n",
        "#A tuple can also be empty\n",
        "# A one-element tuple may be created as follows:\n",
        "\n",
        "one_elem_tuple_1 = (\"one\", ) # Brackets and a comma.\n",
        "one_elem_tuple_2 = \"one\", # No brackets, just a comma.\n",
        "#NB!!If you remove the comma, you will tell Python to create a variable, not a tuple:"
      ],
      "metadata": {
        "id": "tG3pXx2dRyPT"
      },
      "execution_count": null,
      "outputs": []
    },
    {
      "cell_type": "code",
      "source": [
        "#You can access tuple elements by indexing them:\n",
        "my_tuple = (1, 2.0, \"string\", [3, 4], (5, ), True)\n",
        "print(my_tuple[3]) # outputs: [3, 4]\n",
        "\n",
        "#Tuples are immutable, which means you cannot change their elements (you cannot append tuples, or modify, or remove tuple elements)\n",
        "my_tuple = (1, 2.0, \"string\", [3, 4], (5, ), True)\n",
        "my_tuple[2] = \"guitar\" # The TypeError exception will be raised.\n",
        "\n",
        "#You can not remove tuple\n",
        "my_tuple = 1, 2, 3,\n",
        "del my_tuple\n",
        "print(my_tuple) # NameError: name 'my_tuple' is not defined\n",
        "\n"
      ],
      "metadata": {
        "id": "PztRB4uhSv6D"
      },
      "execution_count": null,
      "outputs": []
    },
    {
      "cell_type": "code",
      "source": [
        "#You can loop through a tuple elements (Example 1), check if a specific element is (not)present in a tuple (Example 2), use the len() function to check\n",
        "#how many elements there are in a tuple (Example 3), or even join/multiply tuples\n",
        "\n",
        "# Example 1\n",
        "tuple_1 = (1, 2, 3)\n",
        "for elem in tuple_1:\n",
        "    print(elem)\n",
        "\n",
        "# Example 2\n",
        "tuple_2 = (1, 2, 3, 4)\n",
        "print(5 in tuple_2)\n",
        "print(5 not in tuple_2)\n",
        "\n",
        "# Example 3\n",
        "tuple_2 = (1, 2, 3, 4)\n",
        "print(len(tuple_3))\n",
        "print(5 not in tuple_2)\n",
        "# Example 4\n",
        "tuple_4 = tuple_1 + tuple_2\n",
        "tuple_5 = tuple_3 * 2\n",
        "\n",
        "print(tuple_4)\n",
        "print(tuple_5)"
      ],
      "metadata": {
        "id": "wQRKCOe0Tk7D"
      },
      "execution_count": null,
      "outputs": []
    },
    {
      "cell_type": "code",
      "source": [
        "#You can also create a tuple using a Python built-in function called tuple(). This is particularly useful when you want to convert a\n",
        "#certain iterable (e.g., a list, range, string, etc.) to a tuple:\n",
        "\n",
        "my_tuple = tuple((1, 2, \"string\"))\n",
        "print(my_tuple)\n",
        "\n",
        "my_list = [2, 4, 6]\n",
        "print(my_list) # outputs: [2, 4, 6]\n",
        "print(type(my_list)) # outputs: <class 'list'>\n",
        "tup = tuple(my_list)\n",
        "print(tup) # outputs: (2, 4, 6)\n",
        "print(type(tup)) # outputs: <class 'tuple'>"
      ],
      "metadata": {
        "colab": {
          "base_uri": "https://localhost:8080/"
        },
        "id": "0eMv24rYTyuR",
        "outputId": "8703e6e4-0f7b-4828-dee3-fe10f2fb22d3"
      },
      "execution_count": 9,
      "outputs": [
        {
          "output_type": "stream",
          "name": "stdout",
          "text": [
            "(1, 2, 'string')\n",
            "[2, 4, 6]\n",
            "<class 'list'>\n",
            "(2, 4, 6)\n",
            "<class 'tuple'>\n"
          ]
        }
      ]
    },
    {
      "cell_type": "code",
      "source": [
        "#Write a program that will convert the my_list list to a tuple.\n",
        "my_list = [\"car\", \"Ford\", \"flower\", \"Tulip\"]\n",
        "\n",
        "t = tuple(my_list)\n",
        "print(t)"
      ],
      "metadata": {
        "id": "u-gXPbu1fEs1"
      },
      "execution_count": null,
      "outputs": []
    },
    {
      "cell_type": "code",
      "source": [
        "#Write a program that will convert the colors tuple to a dictionary.\n",
        "colors = ((\"green\", \"#008000\"), (\"blue\", \"#0000FF\"))\n",
        "\n",
        "colors_dictionary = dict(colors)\n",
        "print(colors_dictionary)"
      ],
      "metadata": {
        "colab": {
          "base_uri": "https://localhost:8080/"
        },
        "id": "wZFHKSpGfZ32",
        "outputId": "23cf7e2e-4e5d-48ec-f3c7-d87e2d6358a7"
      },
      "execution_count": 21,
      "outputs": [
        {
          "output_type": "stream",
          "name": "stdout",
          "text": [
            "{'green': '#008000', 'blue': '#0000FF'}\n"
          ]
        }
      ]
    }
  ]
}